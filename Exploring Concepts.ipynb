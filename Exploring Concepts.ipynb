{
 "cells": [
  {
   "cell_type": "markdown",
   "metadata": {},
   "source": [
    "Will Albert  \n",
    "DSSA 5102  \n",
    "Fall 2018  \n",
    "First Notebook Assignment"
   ]
  },
  {
   "cell_type": "markdown",
   "metadata": {},
   "source": [
    "# Make Some Data\n",
    "> I will be using scoring data from my fantasy football team.\n",
    "> This consists of points scored for each of nine starting positions:\n",
    "> * One quarterback\n",
    "> * Two running backs\n",
    "> * Two wide receivers\n",
    "> * One tight end\n",
    "> * One \"flex\" (can be running back, wide receiver or tight end)\n",
    "> * One team defense/special teams\n",
    "> * One kicker"
   ]
  },
  {
   "cell_type": "code",
   "execution_count": 5,
   "metadata": {},
   "outputs": [],
   "source": [
    "#Enter the data as lists\n",
    "\n",
    "position = [\"QB\", \"RB1\", \"RB2\", \"WR1\", \"WR2\", \"TE\", \"Flex\", \"D_ST\", \"K\"] #9 positions\n",
    "wk1_pts = [10, 19, 4, 30, 37.5, 0.5, 14.5, 2, 11] #points scored by each position, week 1\n",
    "\n",
    "#Put the lists into a dictionary\n",
    "\n",
    "data = {\"Position\" : position, \"Week1_Points\" : wk1_pts}"
   ]
  },
  {
   "cell_type": "markdown",
   "metadata": {},
   "source": [
    "### I want to use pandas to work with the data, and matplotlib to visualize it, so I need to import the necessary libraries, using the standard abbreviations for ease of use."
   ]
  },
  {
   "cell_type": "code",
   "execution_count": 9,
   "metadata": {},
   "outputs": [],
   "source": [
    "import numpy as np\n",
    "import pandas as pd\n",
    "import matplotlib.pyplot as plt\n",
    "%matplotlib inline"
   ]
  },
  {
   "cell_type": "markdown",
   "metadata": {},
   "source": [
    "### Now I'm going to use pandas to create a dataframe from my lists."
   ]
  },
  {
   "cell_type": "code",
   "execution_count": 7,
   "metadata": {},
   "outputs": [
    {
     "data": {
      "text/html": [
       "<div>\n",
       "<style scoped>\n",
       "    .dataframe tbody tr th:only-of-type {\n",
       "        vertical-align: middle;\n",
       "    }\n",
       "\n",
       "    .dataframe tbody tr th {\n",
       "        vertical-align: top;\n",
       "    }\n",
       "\n",
       "    .dataframe thead th {\n",
       "        text-align: right;\n",
       "    }\n",
       "</style>\n",
       "<table border=\"1\" class=\"dataframe\">\n",
       "  <thead>\n",
       "    <tr style=\"text-align: right;\">\n",
       "      <th></th>\n",
       "      <th>Position</th>\n",
       "      <th>Week1_Points</th>\n",
       "    </tr>\n",
       "  </thead>\n",
       "  <tbody>\n",
       "    <tr>\n",
       "      <th>0</th>\n",
       "      <td>QB</td>\n",
       "      <td>10.0</td>\n",
       "    </tr>\n",
       "    <tr>\n",
       "      <th>1</th>\n",
       "      <td>RB1</td>\n",
       "      <td>19.0</td>\n",
       "    </tr>\n",
       "    <tr>\n",
       "      <th>2</th>\n",
       "      <td>RB2</td>\n",
       "      <td>4.0</td>\n",
       "    </tr>\n",
       "    <tr>\n",
       "      <th>3</th>\n",
       "      <td>WR1</td>\n",
       "      <td>30.0</td>\n",
       "    </tr>\n",
       "    <tr>\n",
       "      <th>4</th>\n",
       "      <td>WR2</td>\n",
       "      <td>37.5</td>\n",
       "    </tr>\n",
       "    <tr>\n",
       "      <th>5</th>\n",
       "      <td>TE</td>\n",
       "      <td>0.5</td>\n",
       "    </tr>\n",
       "    <tr>\n",
       "      <th>6</th>\n",
       "      <td>Flex</td>\n",
       "      <td>14.5</td>\n",
       "    </tr>\n",
       "    <tr>\n",
       "      <th>7</th>\n",
       "      <td>D_ST</td>\n",
       "      <td>2.0</td>\n",
       "    </tr>\n",
       "    <tr>\n",
       "      <th>8</th>\n",
       "      <td>K</td>\n",
       "      <td>11.0</td>\n",
       "    </tr>\n",
       "  </tbody>\n",
       "</table>\n",
       "</div>"
      ],
      "text/plain": [
       "  Position  Week1_Points\n",
       "0       QB          10.0\n",
       "1      RB1          19.0\n",
       "2      RB2           4.0\n",
       "3      WR1          30.0\n",
       "4      WR2          37.5\n",
       "5       TE           0.5\n",
       "6     Flex          14.5\n",
       "7     D_ST           2.0\n",
       "8        K          11.0"
      ]
     },
     "execution_count": 7,
     "metadata": {},
     "output_type": "execute_result"
    }
   ],
   "source": [
    "my_team = pd.DataFrame(data)\n",
    "\n",
    "my_team"
   ]
  },
  {
   "cell_type": "markdown",
   "metadata": {},
   "source": [
    "### I now have my data from week 2, so let's add that.\n",
    "> I could go back and add this to the original cell where I entered my data but for the purposes of this assignment I'll do it over again here."
   ]
  },
  {
   "cell_type": "code",
   "execution_count": 8,
   "metadata": {},
   "outputs": [
    {
     "data": {
      "text/html": [
       "<div>\n",
       "<style scoped>\n",
       "    .dataframe tbody tr th:only-of-type {\n",
       "        vertical-align: middle;\n",
       "    }\n",
       "\n",
       "    .dataframe tbody tr th {\n",
       "        vertical-align: top;\n",
       "    }\n",
       "\n",
       "    .dataframe thead th {\n",
       "        text-align: right;\n",
       "    }\n",
       "</style>\n",
       "<table border=\"1\" class=\"dataframe\">\n",
       "  <thead>\n",
       "    <tr style=\"text-align: right;\">\n",
       "      <th></th>\n",
       "      <th>Position</th>\n",
       "      <th>Week1_Points</th>\n",
       "      <th>Week2_Points</th>\n",
       "    </tr>\n",
       "  </thead>\n",
       "  <tbody>\n",
       "    <tr>\n",
       "      <th>0</th>\n",
       "      <td>QB</td>\n",
       "      <td>10.0</td>\n",
       "      <td>27.0</td>\n",
       "    </tr>\n",
       "    <tr>\n",
       "      <th>1</th>\n",
       "      <td>RB1</td>\n",
       "      <td>19.0</td>\n",
       "      <td>17.0</td>\n",
       "    </tr>\n",
       "    <tr>\n",
       "      <th>2</th>\n",
       "      <td>RB2</td>\n",
       "      <td>4.0</td>\n",
       "      <td>13.0</td>\n",
       "    </tr>\n",
       "    <tr>\n",
       "      <th>3</th>\n",
       "      <td>WR1</td>\n",
       "      <td>30.0</td>\n",
       "      <td>24.0</td>\n",
       "    </tr>\n",
       "    <tr>\n",
       "      <th>4</th>\n",
       "      <td>WR2</td>\n",
       "      <td>37.5</td>\n",
       "      <td>17.5</td>\n",
       "    </tr>\n",
       "    <tr>\n",
       "      <th>5</th>\n",
       "      <td>TE</td>\n",
       "      <td>0.5</td>\n",
       "      <td>25.5</td>\n",
       "    </tr>\n",
       "    <tr>\n",
       "      <th>6</th>\n",
       "      <td>Flex</td>\n",
       "      <td>14.5</td>\n",
       "      <td>17.0</td>\n",
       "    </tr>\n",
       "    <tr>\n",
       "      <th>7</th>\n",
       "      <td>D_ST</td>\n",
       "      <td>2.0</td>\n",
       "      <td>-2.0</td>\n",
       "    </tr>\n",
       "    <tr>\n",
       "      <th>8</th>\n",
       "      <td>K</td>\n",
       "      <td>11.0</td>\n",
       "      <td>14.0</td>\n",
       "    </tr>\n",
       "  </tbody>\n",
       "</table>\n",
       "</div>"
      ],
      "text/plain": [
       "  Position  Week1_Points  Week2_Points\n",
       "0       QB          10.0          27.0\n",
       "1      RB1          19.0          17.0\n",
       "2      RB2           4.0          13.0\n",
       "3      WR1          30.0          24.0\n",
       "4      WR2          37.5          17.5\n",
       "5       TE           0.5          25.5\n",
       "6     Flex          14.5          17.0\n",
       "7     D_ST           2.0          -2.0\n",
       "8        K          11.0          14.0"
      ]
     },
     "execution_count": 8,
     "metadata": {},
     "output_type": "execute_result"
    }
   ],
   "source": [
    "wk2_pts = [27, 17, 13, 24, 17.5, 25.5, 17, -2, 14]\n",
    "\n",
    "data2 = {\"Position\" : position, \"Week1_Points\" : wk1_pts, \"Week2_Points\" : wk2_pts}\n",
    "\n",
    "my_team2 = pd.DataFrame(data2)\n",
    "\n",
    "my_team2"
   ]
  },
  {
   "cell_type": "markdown",
   "metadata": {},
   "source": [
    "### Now I want to see the data in a horizontal bar chart."
   ]
  },
  {
   "cell_type": "code",
   "execution_count": 10,
   "metadata": {},
   "outputs": [
    {
     "data": {
      "image/png": "[encoded data removed]",
      "text/plain": [
       "<Figure size 432x288 with 1 Axes>"
      ]
     },
     "metadata": {
      "needs_background": "light"
     },
     "output_type": "display_data"
    }
   ],
   "source": [
    "# similar example code can be found at matplotlib.org\n",
    "\n",
    "fig, ax = plt.subplots()\n",
    "\n",
    "N = 9\n",
    "\n",
    "ind = np.arange(N) # locations for the 9 groups\n",
    "width = 0.25       # width of bars\n",
    "\n",
    "labels = my_team2[\"Position\"] # get labels from dataframe - could also use original list\n",
    "\n",
    "x1 = my_team2[\"Week1_Points\"] \n",
    "x2 = my_team2[\"Week2_Points\"]\n",
    "\n",
    "p1 = ax.barh(ind, x1, width)         # create plot for week 1 data\n",
    "p2 = ax.barh(ind + width, x2, width) # create plot for week 2 data\n",
    "\n",
    "ax.set_title(\"My Fantasy Football Team - Scoring by Position\")\n",
    "ax.set_yticks(ind + width / 2)  # center the ticks between bars\n",
    "ax.set_yticklabels(labels)      # labels from my position variable\n",
    "\n",
    "ax.legend((p1[0], p2[0]), (\"Week 1\", \"Week 2\"))\n",
    "\n",
    "plt.show()\n",
    "\n"
   ]
  },
  {
   "cell_type": "markdown",
   "metadata": {},
   "source": [
    "* Easily visible here, my QB, RB2 and TE all were much improved week 2, while my WR2 took a big step back.\n",
    "* My defense is terrible any way you look at it."
   ]
  },
  {
   "cell_type": "markdown",
   "metadata": {},
   "source": [
    "#### If I wanted to keep this up through the season, I could just keep adding weeks and re-run the (mostly) same code.  I could also create additional dataframes for the opposing teams in my league, and get info like league averages by position to track my progress (or lack thereof)."
   ]
  },
  {
   "cell_type": "code",
   "execution_count": null,
   "metadata": {},
   "outputs": [],
   "source": []
  }
 ],
 "metadata": {
  "kernelspec": {
   "display_name": "Python 3",
   "language": "python",
   "name": "python3"
  },
  "language_info": {
   "codemirror_mode": {
    "name": "ipython",
    "version": 3
   },
   "file_extension": ".py",
   "mimetype": "text/x-python",
   "name": "python",
   "nbconvert_exporter": "python",
   "pygments_lexer": "ipython3",
   "version": "3.7.0"
  }
 },
 "nbformat": 4,
 "nbformat_minor": 2
}
