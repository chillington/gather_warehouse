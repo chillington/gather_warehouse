{
 "cells": [
  {
   "cell_type": "markdown",
   "metadata": {},
   "source": [
    "Will Albert   \n",
    "DSSA 5102  \n",
    "Mini 2: Web Scraping to SQL  "
   ]
  },
  {
   "cell_type": "markdown",
   "metadata": {},
   "source": [
    "### Survivor - Individual Challenge Wins by Season"
   ]
  },
  {
   "cell_type": "code",
   "execution_count": 1,
   "metadata": {},
   "outputs": [],
   "source": [
    "import requests\n",
    "import pandas as pd\n",
    "import sqlite3\n",
    "import lxml.html"
   ]
  },
  {
   "cell_type": "code",
   "execution_count": 2,
   "metadata": {},
   "outputs": [],
   "source": [
    "x = \"https://www.truedorktimes.com/survivor/boxscores/indchw-season.htm\"\n",
    "r = requests.get(x)"
   ]
  },
  {
   "cell_type": "code",
   "execution_count": 3,
   "metadata": {},
   "outputs": [],
   "source": [
    "html = lxml.html.fromstring(r.text)\n",
    "wins = html.get_element_by_id(\"boxscore\")\n",
    "tablebody = wins.getchildren()[2]\n",
    "tablehead = wins.getchildren()[1]"
   ]
  },
  {
   "cell_type": "code",
   "execution_count": 4,
   "metadata": {},
   "outputs": [],
   "source": [
    "data = {\n",
    "    \"Rank\": [],\n",
    "    \"Contestant\": [],\n",
    "    \"Season\": [],\n",
    "    \"Individual_challenge_wins\": [],\n",
    "    \"Individual_challenge_appearances\": []\n",
    "}\n",
    "\n",
    "for row in tablebody.getchildren():\n",
    "    data[\"Rank\"].append(row.getchildren()[0].text_content())\n",
    "    data[\"Contestant\"].append(row.getchildren()[1].text_content().strip())\n",
    "    data[\"Season\"].append(row.getchildren()[2].text_content())\n",
    "    data[\"Individual_challenge_wins\"].append(row.getchildren()[3].text_content().strip(\"*\"))\n",
    "    data[\"Individual_challenge_appearances\"].append(row.getchildren()[4].text_content().strip(\"*\"))\n",
    "    \n",
    "df = pd.DataFrame(data)"
   ]
  },
  {
   "cell_type": "code",
   "execution_count": 5,
   "metadata": {},
   "outputs": [],
   "source": [
    "df.Individual_challenge_wins = df.Individual_challenge_wins.astype(int)\n",
    "df.Individual_challenge_appearances = df.Individual_challenge_appearances.astype(int)"
   ]
  },
  {
   "cell_type": "code",
   "execution_count": 6,
   "metadata": {},
   "outputs": [],
   "source": [
    "db = sqlite3.connect(\":memory:\")\n",
    "cursor = db.cursor()\n",
    "cursor.execute(\"\"\"\n",
    "    CREATE TABLE WINS(RANK, CONTESTANT, SEASON, IND_WINS, IND_APPEARANCES)\n",
    "\"\"\")\n",
    "\n",
    "for row in df.itertuples():\n",
    "    insert_sql_syntax = \"\"\"\n",
    "    INSERT INTO WINS(RANK, CONTESTANT, SEASON, IND_WINS, IND_APPEARANCES)\n",
    "    VALUES (?,?,?,?,?)\n",
    "    \"\"\"\n",
    "    cursor.execute(insert_sql_syntax, row[1:])\n",
    "#db.close()"
   ]
  },
  {
   "cell_type": "code",
   "execution_count": 7,
   "metadata": {},
   "outputs": [
    {
     "name": "stdout",
     "output_type": "stream",
     "text": [
      "('1', 'Colby Donaldson', 'S2 - The Australian Outback', 7, 11)\n",
      "('1', 'Terry Deitz', 'S12 - Panama', 7, 11)\n",
      "('4', 'Mike Holloway', 'S30 - Worlds Apart', 6, 11)\n",
      "('10', 'Chrissy Hofbeck', 'S35 - Heroes v Healers v Hustlers', 5, 11)\n",
      "('10', 'Lex van den Berghe', 'S3 - Africa', 5, 11)\n",
      "('20', 'Malcolm Freberg', 'S25 - Philippines', 4, 11)\n",
      "('20', 'Michele Fitzgerald', 'S32 - Kaoh Rong', 4, 11)\n",
      "('20', 'Ken McNickle', 'S33 - Millennials vs. Gen X', 4, 11)\n",
      "('43', 'Eliza Orlins', 'S9 - Vanuatu', 3, 11)\n",
      "('43', 'Amanda Kimmel', 'S15 - China', 3, 11)\n",
      "('43', 'Mike Skupin', 'S25 - Philippines', 3, 11)\n"
     ]
    }
   ],
   "source": [
    "for row in cursor.execute(\"\"\"\n",
    "    SELECT * \n",
    "    FROM WINS\n",
    "    WHERE IND_APPEARANCES = 11\n",
    "\"\"\"):\n",
    "    print(row)"
   ]
  },
  {
   "cell_type": "code",
   "execution_count": 8,
   "metadata": {},
   "outputs": [
    {
     "name": "stdout",
     "output_type": "stream",
     "text": [
      "('Colby Donaldson', 'S2 - The Australian Outback', 7)\n",
      "('Terry Deitz', 'S12 - Panama', 7)\n",
      "('Mike Holloway', 'S30 - Worlds Apart', 6)\n",
      "('Chrissy Hofbeck', 'S35 - Heroes v Healers v Hustlers', 5)\n",
      "('Lex van den Berghe', 'S3 - Africa', 5)\n",
      "('Malcolm Freberg', 'S25 - Philippines', 4)\n",
      "('Michele Fitzgerald', 'S32 - Kaoh Rong', 4)\n",
      "('Ken McNickle', 'S33 - Millennials vs. Gen X', 4)\n",
      "('Eliza Orlins', 'S9 - Vanuatu', 3)\n",
      "('Amanda Kimmel', 'S15 - China', 3)\n",
      "('Mike Skupin', 'S25 - Philippines', 3)\n"
     ]
    }
   ],
   "source": [
    "for row in cursor.execute(\"\"\"\n",
    "    SELECT CONTESTANT, SEASON, IND_WINS \n",
    "    FROM WINS\n",
    "    WHERE IND_APPEARANCES = 11\n",
    "\"\"\"):\n",
    "    print(row)"
   ]
  },
  {
   "cell_type": "code",
   "execution_count": null,
   "metadata": {},
   "outputs": [],
   "source": []
  }
 ],
 "metadata": {
  "kernelspec": {
   "display_name": "Python 3",
   "language": "python",
   "name": "python3"
  },
  "language_info": {
   "codemirror_mode": {
    "name": "ipython",
    "version": 3
   },
   "file_extension": ".py",
   "mimetype": "text/x-python",
   "name": "python",
   "nbconvert_exporter": "python",
   "pygments_lexer": "ipython3",
   "version": "3.7.0"
  }
 },
 "nbformat": 4,
 "nbformat_minor": 2
}
